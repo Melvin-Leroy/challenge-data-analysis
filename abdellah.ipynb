{
 "metadata": {
  "language_info": {
   "codemirror_mode": {
    "name": "ipython",
    "version": 3
   },
   "file_extension": ".py",
   "mimetype": "text/x-python",
   "name": "python",
   "nbconvert_exporter": "python",
   "pygments_lexer": "ipython3",
   "version": "3.8.5-final"
  },
  "orig_nbformat": 2,
  "kernelspec": {
   "name": "python38564bitmyenvcondaf6b3ec18afdf44b4bcbae6cffd682dec",
   "display_name": "Python 3.8.5 64-bit ('my_env': conda)"
  }
 },
 "nbformat": 4,
 "nbformat_minor": 2,
 "cells": [
  {
   "cell_type": "code",
   "execution_count": 4,
   "metadata": {},
   "outputs": [],
   "source": [
    "import pandas as pd\n",
    "import seaborn as sn\n",
    "import matplotlib.pyplot as plt"
   ]
  },
  {
   "cell_type": "code",
   "execution_count": 3,
   "metadata": {},
   "outputs": [],
   "source": [
    "df = pd.read_csv()"
   ]
  },
  {
   "source": [
    "the price variable is the target"
   ],
   "cell_type": "markdown",
   "metadata": {}
  },
  {
   "source": [
    "How many rows and columns ?"
   ],
   "cell_type": "markdown",
   "metadata": {}
  },
  {
   "cell_type": "code",
   "execution_count": null,
   "metadata": {},
   "outputs": [],
   "source": [
    "df.shape()"
   ]
  },
  {
   "source": [
    "slect a matrix of quantitative data called df1"
   ],
   "cell_type": "markdown",
   "metadata": {}
  },
  {
   "cell_type": "code",
   "execution_count": null,
   "metadata": {},
   "outputs": [],
   "source": []
  },
  {
   "source": [
    "correlation between the variables and the target "
   ],
   "cell_type": "markdown",
   "metadata": {}
  },
  {
   "cell_type": "code",
   "execution_count": null,
   "metadata": {},
   "outputs": [],
   "source": [
    "data1=df1.drop(\"price\", axis=1).apply(lambda x: x.corr(df1.price))\n",
    "corrMatrix1=pd.DataFrame(data1)\n",
    "sn.heatmap(corrMatrix1, annot=True)"
   ]
  },
  {
   "source": [
    "correlation between the variables and the other variables "
   ],
   "cell_type": "markdown",
   "metadata": {}
  },
  {
   "cell_type": "code",
   "execution_count": null,
   "metadata": {},
   "outputs": [],
   "source": [
    "corrMatrix2 = df1.corr()\n",
    "mask = np.zeros(corrMatrix2.shape, dtype=bool)\n",
    "mask[np.triu_indices(len(mask))] = True\n",
    "sn.heatmap(corrMatrix2, vmin = -1, vmax = 1, center = 0, cmap = 'coolwarm', annot = True, mask = mask)\n"
   ]
  },
  {
   "source": [
    "variables with the greatest influence on the target "
   ],
   "cell_type": "markdown",
   "metadata": {}
  },
  {
   "cell_type": "code",
   "execution_count": null,
   "metadata": {},
   "outputs": [],
   "source": [
    "#corrMatrix1.loc[corrMatrix1.idxmax()]\n",
    "corrMatrix1.nlargest(3, 0)"
   ]
  },
  {
   "source": [
    "variables with the least influence on the target"
   ],
   "cell_type": "markdown",
   "metadata": {}
  },
  {
   "cell_type": "code",
   "execution_count": null,
   "metadata": {},
   "outputs": [],
   "source": [
    "corrMatrix1.nsmallest(3, 0)"
   ]
  },
  {
   "cell_type": "code",
   "execution_count": null,
   "metadata": {},
   "outputs": [],
   "source": [
    "Percentage of missing values per column "
   ]
  },
  {
   "cell_type": "code",
   "execution_count": null,
   "metadata": {},
   "outputs": [],
   "source": [
    "miss_val = df.isna() #transform in bool\n",
    "#miss_val.head()    \n",
    "#miss_val.dtypes \n",
    "miss_val_num = miss_val.sum()   #from bool to numerical\n",
    "#miss_val_num\n",
    "#len(df)          #>>>nbre of indexes\n",
    "miss_val_num / len(df)\n",
    "\n"
   ]
  }
 ]
}