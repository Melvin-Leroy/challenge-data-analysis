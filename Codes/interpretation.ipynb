{
 "cells": [
  {
   "cell_type": "code",
   "execution_count": 60,
   "metadata": {},
   "outputs": [],
   "source": [
    "import numpy as np\n",
    "import pandas as pd\n",
    "import matplotlib.pyplot as plt\n",
    "import seaborn as sns"
   ]
  },
  {
   "cell_type": "code",
   "execution_count": 61,
   "metadata": {},
   "outputs": [],
   "source": [
    "from DataCleaning import open_and_manage\n",
    "url = \"../quick_clean.csv\"\n",
    "df = open_and_manage(url)"
   ]
  },
  {
   "cell_type": "code",
   "execution_count": 62,
   "metadata": {},
   "outputs": [
    {
     "data": {
      "text/html": [
       "<div>\n",
       "<style scoped>\n",
       "    .dataframe tbody tr th:only-of-type {\n",
       "        vertical-align: middle;\n",
       "    }\n",
       "\n",
       "    .dataframe tbody tr th {\n",
       "        vertical-align: top;\n",
       "    }\n",
       "\n",
       "    .dataframe thead th {\n",
       "        text-align: right;\n",
       "    }\n",
       "</style>\n",
       "<table border=\"1\" class=\"dataframe\">\n",
       "  <thead>\n",
       "    <tr style=\"text-align: right;\">\n",
       "      <th></th>\n",
       "      <th>id</th>\n",
       "      <th>type</th>\n",
       "      <th>subtype</th>\n",
       "      <th>price</th>\n",
       "      <th>zip_code</th>\n",
       "      <th>cuisine_type</th>\n",
       "      <th>constructionYear</th>\n",
       "      <th>condition</th>\n",
       "      <th>heatingType</th>\n",
       "      <th>room_number</th>\n",
       "      <th>...</th>\n",
       "      <th>subtype_mansion</th>\n",
       "      <th>subtype_mixed use building</th>\n",
       "      <th>subtype_other property</th>\n",
       "      <th>subtype_penthouse</th>\n",
       "      <th>subtype_service flat</th>\n",
       "      <th>subtype_town house</th>\n",
       "      <th>subtype_triplex</th>\n",
       "      <th>subtype_villa</th>\n",
       "      <th>type_apartment</th>\n",
       "      <th>type_house</th>\n",
       "    </tr>\n",
       "  </thead>\n",
       "  <tbody>\n",
       "    <tr>\n",
       "      <th>19850</th>\n",
       "      <td>8128634</td>\n",
       "      <td>house</td>\n",
       "      <td>house</td>\n",
       "      <td>435200.0</td>\n",
       "      <td>2550</td>\n",
       "      <td>hyper equipped</td>\n",
       "      <td>2019.0</td>\n",
       "      <td>as new</td>\n",
       "      <td>gas</td>\n",
       "      <td>3.0</td>\n",
       "      <td>...</td>\n",
       "      <td>0</td>\n",
       "      <td>0</td>\n",
       "      <td>0</td>\n",
       "      <td>0</td>\n",
       "      <td>0</td>\n",
       "      <td>0</td>\n",
       "      <td>0</td>\n",
       "      <td>0</td>\n",
       "      <td>0</td>\n",
       "      <td>1</td>\n",
       "    </tr>\n",
       "    <tr>\n",
       "      <th>19851</th>\n",
       "      <td>8907618</td>\n",
       "      <td>house</td>\n",
       "      <td>house</td>\n",
       "      <td>420000.0</td>\n",
       "      <td>5640</td>\n",
       "      <td>No infos</td>\n",
       "      <td>NaN</td>\n",
       "      <td>as new</td>\n",
       "      <td>fueloil</td>\n",
       "      <td>0.0</td>\n",
       "      <td>...</td>\n",
       "      <td>0</td>\n",
       "      <td>0</td>\n",
       "      <td>0</td>\n",
       "      <td>0</td>\n",
       "      <td>0</td>\n",
       "      <td>0</td>\n",
       "      <td>0</td>\n",
       "      <td>0</td>\n",
       "      <td>0</td>\n",
       "      <td>1</td>\n",
       "    </tr>\n",
       "    <tr>\n",
       "      <th>19852</th>\n",
       "      <td>8954484</td>\n",
       "      <td>house</td>\n",
       "      <td>mansion</td>\n",
       "      <td>450000.0</td>\n",
       "      <td>2018</td>\n",
       "      <td>No infos</td>\n",
       "      <td>NaN</td>\n",
       "      <td>as new</td>\n",
       "      <td>fueloil</td>\n",
       "      <td>6.0</td>\n",
       "      <td>...</td>\n",
       "      <td>1</td>\n",
       "      <td>0</td>\n",
       "      <td>0</td>\n",
       "      <td>0</td>\n",
       "      <td>0</td>\n",
       "      <td>0</td>\n",
       "      <td>0</td>\n",
       "      <td>0</td>\n",
       "      <td>0</td>\n",
       "      <td>1</td>\n",
       "    </tr>\n",
       "    <tr>\n",
       "      <th>19853</th>\n",
       "      <td>9001418</td>\n",
       "      <td>house</td>\n",
       "      <td>apartment block</td>\n",
       "      <td>450000.0</td>\n",
       "      <td>9500</td>\n",
       "      <td>installed</td>\n",
       "      <td>NaN</td>\n",
       "      <td>to be done up</td>\n",
       "      <td>gas</td>\n",
       "      <td>5.0</td>\n",
       "      <td>...</td>\n",
       "      <td>0</td>\n",
       "      <td>0</td>\n",
       "      <td>0</td>\n",
       "      <td>0</td>\n",
       "      <td>0</td>\n",
       "      <td>0</td>\n",
       "      <td>0</td>\n",
       "      <td>0</td>\n",
       "      <td>0</td>\n",
       "      <td>1</td>\n",
       "    </tr>\n",
       "    <tr>\n",
       "      <th>19854</th>\n",
       "      <td>8907992</td>\n",
       "      <td>house</td>\n",
       "      <td>house</td>\n",
       "      <td>420000.0</td>\n",
       "      <td>5621</td>\n",
       "      <td>No infos</td>\n",
       "      <td>NaN</td>\n",
       "      <td>to be done up</td>\n",
       "      <td>fueloil</td>\n",
       "      <td>0.0</td>\n",
       "      <td>...</td>\n",
       "      <td>0</td>\n",
       "      <td>0</td>\n",
       "      <td>0</td>\n",
       "      <td>0</td>\n",
       "      <td>0</td>\n",
       "      <td>0</td>\n",
       "      <td>0</td>\n",
       "      <td>0</td>\n",
       "      <td>0</td>\n",
       "      <td>1</td>\n",
       "    </tr>\n",
       "  </tbody>\n",
       "</table>\n",
       "<p>5 rows × 72 columns</p>\n",
       "</div>"
      ],
      "text/plain": [
       "            id   type          subtype     price  zip_code    cuisine_type  \\\n",
       "19850  8128634  house            house  435200.0      2550  hyper equipped   \n",
       "19851  8907618  house            house  420000.0      5640        No infos   \n",
       "19852  8954484  house          mansion  450000.0      2018        No infos   \n",
       "19853  9001418  house  apartment block  450000.0      9500       installed   \n",
       "19854  8907992  house            house  420000.0      5621        No infos   \n",
       "\n",
       "       constructionYear      condition heatingType  room_number  ...  \\\n",
       "19850            2019.0         as new         gas          3.0  ...   \n",
       "19851               NaN         as new     fueloil          0.0  ...   \n",
       "19852               NaN         as new     fueloil          6.0  ...   \n",
       "19853               NaN  to be done up         gas          5.0  ...   \n",
       "19854               NaN  to be done up     fueloil          0.0  ...   \n",
       "\n",
       "       subtype_mansion  subtype_mixed use building  subtype_other property  \\\n",
       "19850                0                           0                       0   \n",
       "19851                0                           0                       0   \n",
       "19852                1                           0                       0   \n",
       "19853                0                           0                       0   \n",
       "19854                0                           0                       0   \n",
       "\n",
       "       subtype_penthouse  subtype_service flat subtype_town house  \\\n",
       "19850                  0                     0                  0   \n",
       "19851                  0                     0                  0   \n",
       "19852                  0                     0                  0   \n",
       "19853                  0                     0                  0   \n",
       "19854                  0                     0                  0   \n",
       "\n",
       "       subtype_triplex subtype_villa type_apartment  type_house  \n",
       "19850                0             0              0           1  \n",
       "19851                0             0              0           1  \n",
       "19852                0             0              0           1  \n",
       "19853                0             0              0           1  \n",
       "19854                0             0              0           1  \n",
       "\n",
       "[5 rows x 72 columns]"
      ]
     },
     "execution_count": 62,
     "metadata": {},
     "output_type": "execute_result"
    }
   ],
   "source": [
    "# pd.options.display.max_columns = None\n",
    "df.tail()"
   ]
  },
  {
   "cell_type": "code",
   "execution_count": 63,
   "metadata": {},
   "outputs": [
    {
     "data": {
      "text/plain": [
       "(19855, 72)"
      ]
     },
     "execution_count": 63,
     "metadata": {},
     "output_type": "execute_result"
    }
   ],
   "source": [
    "df.shape"
   ]
  },
  {
   "cell_type": "markdown",
   "metadata": {},
   "source": [
    "# Are there any outliers? If yes, which ones and why?"
   ]
  },
  {
   "cell_type": "code",
   "execution_count": 64,
   "metadata": {},
   "outputs": [
    {
     "data": {
      "text/html": [
       "<div>\n",
       "<style scoped>\n",
       "    .dataframe tbody tr th:only-of-type {\n",
       "        vertical-align: middle;\n",
       "    }\n",
       "\n",
       "    .dataframe tbody tr th {\n",
       "        vertical-align: top;\n",
       "    }\n",
       "\n",
       "    .dataframe thead th {\n",
       "        text-align: right;\n",
       "    }\n",
       "</style>\n",
       "<table border=\"1\" class=\"dataframe\">\n",
       "  <thead>\n",
       "    <tr style=\"text-align: right;\">\n",
       "      <th></th>\n",
       "      <th>id</th>\n",
       "      <th>room_number</th>\n",
       "      <th>square_metres</th>\n",
       "    </tr>\n",
       "  </thead>\n",
       "  <tbody>\n",
       "    <tr>\n",
       "      <th>6283</th>\n",
       "      <td>8715085</td>\n",
       "      <td>204.0</td>\n",
       "      <td>204</td>\n",
       "    </tr>\n",
       "    <tr>\n",
       "      <th>8103</th>\n",
       "      <td>8919065</td>\n",
       "      <td>204.0</td>\n",
       "      <td>204</td>\n",
       "    </tr>\n",
       "    <tr>\n",
       "      <th>7814</th>\n",
       "      <td>8818453</td>\n",
       "      <td>204.0</td>\n",
       "      <td>204</td>\n",
       "    </tr>\n",
       "    <tr>\n",
       "      <th>17491</th>\n",
       "      <td>8784255</td>\n",
       "      <td>165.0</td>\n",
       "      <td>165</td>\n",
       "    </tr>\n",
       "    <tr>\n",
       "      <th>18089</th>\n",
       "      <td>8951414</td>\n",
       "      <td>100.0</td>\n",
       "      <td>8800</td>\n",
       "    </tr>\n",
       "  </tbody>\n",
       "</table>\n",
       "</div>"
      ],
      "text/plain": [
       "            id  room_number  square_metres\n",
       "6283   8715085        204.0            204\n",
       "8103   8919065        204.0            204\n",
       "7814   8818453        204.0            204\n",
       "17491  8784255        165.0            165\n",
       "18089  8951414        100.0           8800"
      ]
     },
     "execution_count": 64,
     "metadata": {},
     "output_type": "execute_result"
    }
   ],
   "source": [
    "room_outliers = df[np.abs(df.room_number-df.room_number.mean()) > (3*df.room_number.std())]\n",
    "room_outliers[[\"id\",\"room_number\",\"square_metres\"]].sort_values(by=\"room_number\", ascending=False).head()"
   ]
  },
  {
   "cell_type": "code",
   "execution_count": 65,
   "metadata": {},
   "outputs": [
    {
     "data": {
      "text/html": [
       "<div>\n",
       "<style scoped>\n",
       "    .dataframe tbody tr th:only-of-type {\n",
       "        vertical-align: middle;\n",
       "    }\n",
       "\n",
       "    .dataframe tbody tr th {\n",
       "        vertical-align: top;\n",
       "    }\n",
       "\n",
       "    .dataframe thead th {\n",
       "        text-align: right;\n",
       "    }\n",
       "</style>\n",
       "<table border=\"1\" class=\"dataframe\">\n",
       "  <thead>\n",
       "    <tr style=\"text-align: right;\">\n",
       "      <th></th>\n",
       "      <th>id</th>\n",
       "      <th>nbr_parking_indoor</th>\n",
       "      <th>square_metres</th>\n",
       "    </tr>\n",
       "  </thead>\n",
       "  <tbody>\n",
       "    <tr>\n",
       "      <th>3226</th>\n",
       "      <td>8944138</td>\n",
       "      <td>35000.0</td>\n",
       "      <td>106</td>\n",
       "    </tr>\n",
       "  </tbody>\n",
       "</table>\n",
       "</div>"
      ],
      "text/plain": [
       "           id  nbr_parking_indoor  square_metres\n",
       "3226  8944138             35000.0            106"
      ]
     },
     "execution_count": 65,
     "metadata": {},
     "output_type": "execute_result"
    }
   ],
   "source": [
    "parking_in_outliers = df[np.abs(df.nbr_parking_indoor-df.nbr_parking_indoor.mean()) > (3*df.nbr_parking_indoor.std())]\n",
    "parking_in_outliers[[\"id\",\"nbr_parking_indoor\",\"square_metres\"]].head()"
   ]
  },
  {
   "cell_type": "code",
   "execution_count": 66,
   "metadata": {},
   "outputs": [
    {
     "data": {
      "text/html": [
       "<div>\n",
       "<style scoped>\n",
       "    .dataframe tbody tr th:only-of-type {\n",
       "        vertical-align: middle;\n",
       "    }\n",
       "\n",
       "    .dataframe tbody tr th {\n",
       "        vertical-align: top;\n",
       "    }\n",
       "\n",
       "    .dataframe thead th {\n",
       "        text-align: right;\n",
       "    }\n",
       "</style>\n",
       "<table border=\"1\" class=\"dataframe\">\n",
       "  <thead>\n",
       "    <tr style=\"text-align: right;\">\n",
       "      <th></th>\n",
       "      <th>id</th>\n",
       "      <th>nbr_parking_outdoor</th>\n",
       "      <th>square_metres</th>\n",
       "    </tr>\n",
       "  </thead>\n",
       "  <tbody>\n",
       "    <tr>\n",
       "      <th>678</th>\n",
       "      <td>8372213</td>\n",
       "      <td>250.0</td>\n",
       "      <td>93</td>\n",
       "    </tr>\n",
       "    <tr>\n",
       "      <th>470</th>\n",
       "      <td>8773002</td>\n",
       "      <td>250.0</td>\n",
       "      <td>69</td>\n",
       "    </tr>\n",
       "    <tr>\n",
       "      <th>520</th>\n",
       "      <td>9007599</td>\n",
       "      <td>250.0</td>\n",
       "      <td>83</td>\n",
       "    </tr>\n",
       "    <tr>\n",
       "      <th>356</th>\n",
       "      <td>8318891</td>\n",
       "      <td>202.0</td>\n",
       "      <td>84</td>\n",
       "    </tr>\n",
       "    <tr>\n",
       "      <th>193</th>\n",
       "      <td>8972719</td>\n",
       "      <td>109.0</td>\n",
       "      <td>69</td>\n",
       "    </tr>\n",
       "    <tr>\n",
       "      <th>77</th>\n",
       "      <td>9007296</td>\n",
       "      <td>100.0</td>\n",
       "      <td>118</td>\n",
       "    </tr>\n",
       "    <tr>\n",
       "      <th>5460</th>\n",
       "      <td>9027328</td>\n",
       "      <td>100.0</td>\n",
       "      <td>65</td>\n",
       "    </tr>\n",
       "    <tr>\n",
       "      <th>5053</th>\n",
       "      <td>8978908</td>\n",
       "      <td>100.0</td>\n",
       "      <td>90</td>\n",
       "    </tr>\n",
       "    <tr>\n",
       "      <th>14981</th>\n",
       "      <td>8869798</td>\n",
       "      <td>100.0</td>\n",
       "      <td>850</td>\n",
       "    </tr>\n",
       "    <tr>\n",
       "      <th>15958</th>\n",
       "      <td>8489907</td>\n",
       "      <td>100.0</td>\n",
       "      <td>655</td>\n",
       "    </tr>\n",
       "  </tbody>\n",
       "</table>\n",
       "</div>"
      ],
      "text/plain": [
       "            id  nbr_parking_outdoor  square_metres\n",
       "678    8372213                250.0             93\n",
       "470    8773002                250.0             69\n",
       "520    9007599                250.0             83\n",
       "356    8318891                202.0             84\n",
       "193    8972719                109.0             69\n",
       "77     9007296                100.0            118\n",
       "5460   9027328                100.0             65\n",
       "5053   8978908                100.0             90\n",
       "14981  8869798                100.0            850\n",
       "15958  8489907                100.0            655"
      ]
     },
     "execution_count": 66,
     "metadata": {},
     "output_type": "execute_result"
    }
   ],
   "source": [
    "parking_out_outliers = df[np.abs(df.nbr_parking_outdoor-df.nbr_parking_outdoor.mean()) > (3*df.nbr_parking_outdoor.std())]\n",
    "parking_out_outliers[[\"id\",\"nbr_parking_outdoor\",\"square_metres\"]].sort_values(by=\"nbr_parking_outdoor\", ascending=False).head(10)"
   ]
  },
  {
   "cell_type": "code",
   "execution_count": 67,
   "metadata": {},
   "outputs": [
    {
     "name": "stdout",
     "output_type": "stream",
     "text": [
      "Number of room outliers : 44\n",
      "Number of indoor parking outliers : 1\n",
      "Number of outdoor parking outliers : 85\n"
     ]
    }
   ],
   "source": [
    "print(f\"Number of room outliers : {len(room_outliers)}\")\n",
    "print(f\"Number of indoor parking outliers : {len(parking_in_outliers)}\")\n",
    "print(f\"Number of outdoor parking outliers : {len(parking_out_outliers)}\")"
   ]
  },
  {
   "cell_type": "code",
   "execution_count": 68,
   "metadata": {},
   "outputs": [
    {
     "name": "stderr",
     "output_type": "stream",
     "text": [
      "/home/melvin/miniconda3/envs/challenge-data-analysis/lib/python3.8/site-packages/seaborn/_decorators.py:36: FutureWarning: Pass the following variable as a keyword arg: x. From version 0.12, the only valid positional argument will be `data`, and passing other arguments without an explicit keyword will result in an error or misinterpretation.\n",
      "  warnings.warn(\n"
     ]
    },
    {
     "data": {
      "text/plain": [
       "Text(0.5, 1.0, 'Distribution of room number')"
      ]
     },
     "execution_count": 68,
     "metadata": {},
     "output_type": "execute_result"
    },
    {
     "data": {
      "image/png": "[encoded data removed]",
      "text/plain": [
       "<Figure size 432x288 with 1 Axes>"
      ]
     },
     "metadata": {
      "needs_background": "light"
     },
     "output_type": "display_data"
    }
   ],
   "source": [
    "# box plot of the variable room_number\n",
    "ax = sns.boxplot(df.room_number)\n",
    "\n",
    "# notation indicating an outlier\n",
    "ax.annotate('Outlier', xy=(100,0), xytext=(80,-0.12), fontsize=12,\n",
    "            arrowprops=dict(arrowstyle='->', ec='grey', lw=2), bbox = dict(boxstyle=\"round\", fc=\"0.8\"))\n",
    "\n",
    "# xtick, label, and title\n",
    "plt.xticks(fontsize=14)\n",
    "plt.xlabel('Number of room', fontsize=14)\n",
    "plt.title('Distribution of room number', fontsize=20)"
   ]
  },
  {
   "cell_type": "code",
   "execution_count": 69,
   "metadata": {},
   "outputs": [
    {
     "name": "stderr",
     "output_type": "stream",
     "text": [
      "/home/melvin/miniconda3/envs/challenge-data-analysis/lib/python3.8/site-packages/seaborn/_decorators.py:36: FutureWarning: Pass the following variable as a keyword arg: x. From version 0.12, the only valid positional argument will be `data`, and passing other arguments without an explicit keyword will result in an error or misinterpretation.\n",
      "  warnings.warn(\n"
     ]
    },
    {
     "data": {
      "text/plain": [
       "Text(0.5, 1.0, 'Distribution of indoor parking')"
      ]
     },
     "execution_count": 69,
     "metadata": {},
     "output_type": "execute_result"
    },
    {
     "data": {
      "image/png": "[encoded data removed]",
      "text/plain": [
       "<Figure size 432x288 with 1 Axes>"
      ]
     },
     "metadata": {
      "needs_background": "light"
     },
     "output_type": "display_data"
    }
   ],
   "source": [
    "ax = sns.boxplot(df.nbr_parking_indoor)\n",
    "plt.xticks(fontsize=14)\n",
    "plt.xlabel('Number of indoor parking', fontsize=14)\n",
    "plt.title('Distribution of indoor parking', fontsize=20)"
   ]
  },
  {
   "cell_type": "code",
   "execution_count": 70,
   "metadata": {},
   "outputs": [
    {
     "name": "stderr",
     "output_type": "stream",
     "text": [
      "/home/melvin/miniconda3/envs/challenge-data-analysis/lib/python3.8/site-packages/seaborn/_decorators.py:36: FutureWarning: Pass the following variable as a keyword arg: x. From version 0.12, the only valid positional argument will be `data`, and passing other arguments without an explicit keyword will result in an error or misinterpretation.\n",
      "  warnings.warn(\n"
     ]
    },
    {
     "data": {
      "text/plain": [
       "Text(0.5, 1.0, 'Distribution of outdoor parking')"
      ]
     },
     "execution_count": 70,
     "metadata": {},
     "output_type": "execute_result"
    },
    {
     "data": {
      "image/png": "[encoded data removed]",
      "text/plain": [
       "<Figure size 432x288 with 1 Axes>"
      ]
     },
     "metadata": {
      "needs_background": "light"
     },
     "output_type": "display_data"
    }
   ],
   "source": [
    "ax = sns.boxplot(df.nbr_parking_outdoor)\n",
    "plt.xticks(fontsize=14)\n",
    "plt.xlabel('Number of outdoor parking', fontsize=14)\n",
    "plt.title('Distribution of outdoor parking', fontsize=20)"
   ]
  },
  {
   "cell_type": "code",
   "execution_count": 71,
   "metadata": {},
   "outputs": [],
   "source": [
    "# keep only the ones that are within +3 to -3 standard deviations in the column 'room_number'.\n",
    "# df[np.abs(df.room_number-df.room_number.mean()) <= (3*df.room_number.std())]"
   ]
  },
  {
   "cell_type": "markdown",
   "metadata": {},
   "source": [
    "### Delete wrong values"
   ]
  },
  {
   "cell_type": "code",
   "execution_count": 72,
   "metadata": {},
   "outputs": [
    {
     "data": {
      "text/html": [
       "<div>\n",
       "<style scoped>\n",
       "    .dataframe tbody tr th:only-of-type {\n",
       "        vertical-align: middle;\n",
       "    }\n",
       "\n",
       "    .dataframe tbody tr th {\n",
       "        vertical-align: top;\n",
       "    }\n",
       "\n",
       "    .dataframe thead th {\n",
       "        text-align: right;\n",
       "    }\n",
       "</style>\n",
       "<table border=\"1\" class=\"dataframe\">\n",
       "  <thead>\n",
       "    <tr style=\"text-align: right;\">\n",
       "      <th></th>\n",
       "      <th>id</th>\n",
       "      <th>room_number</th>\n",
       "      <th>square_metres</th>\n",
       "      <th>price</th>\n",
       "    </tr>\n",
       "  </thead>\n",
       "  <tbody>\n",
       "    <tr>\n",
       "      <th>18089</th>\n",
       "      <td>8951414</td>\n",
       "      <td>100.0</td>\n",
       "      <td>8800</td>\n",
       "      <td>15000000.0</td>\n",
       "    </tr>\n",
       "    <tr>\n",
       "      <th>15436</th>\n",
       "      <td>8820666</td>\n",
       "      <td>60.0</td>\n",
       "      <td>8521</td>\n",
       "      <td>1100000.0</td>\n",
       "    </tr>\n",
       "    <tr>\n",
       "      <th>10481</th>\n",
       "      <td>7701432</td>\n",
       "      <td>41.0</td>\n",
       "      <td>2049</td>\n",
       "      <td>5200000.0</td>\n",
       "    </tr>\n",
       "    <tr>\n",
       "      <th>10482</th>\n",
       "      <td>7701433</td>\n",
       "      <td>41.0</td>\n",
       "      <td>2049</td>\n",
       "      <td>5200000.0</td>\n",
       "    </tr>\n",
       "    <tr>\n",
       "      <th>11243</th>\n",
       "      <td>9029547</td>\n",
       "      <td>30.0</td>\n",
       "      <td>415</td>\n",
       "      <td>550000.0</td>\n",
       "    </tr>\n",
       "    <tr>\n",
       "      <th>...</th>\n",
       "      <td>...</td>\n",
       "      <td>...</td>\n",
       "      <td>...</td>\n",
       "      <td>...</td>\n",
       "    </tr>\n",
       "    <tr>\n",
       "      <th>3810</th>\n",
       "      <td>8997835</td>\n",
       "      <td>0.0</td>\n",
       "      <td>41</td>\n",
       "      <td>170000.0</td>\n",
       "    </tr>\n",
       "    <tr>\n",
       "      <th>18359</th>\n",
       "      <td>9021045</td>\n",
       "      <td>0.0</td>\n",
       "      <td>296</td>\n",
       "      <td>120000.0</td>\n",
       "    </tr>\n",
       "    <tr>\n",
       "      <th>18357</th>\n",
       "      <td>8912294</td>\n",
       "      <td>0.0</td>\n",
       "      <td>93</td>\n",
       "      <td>139000.0</td>\n",
       "    </tr>\n",
       "    <tr>\n",
       "      <th>3788</th>\n",
       "      <td>8960382</td>\n",
       "      <td>0.0</td>\n",
       "      <td>40</td>\n",
       "      <td>99000.0</td>\n",
       "    </tr>\n",
       "    <tr>\n",
       "      <th>19854</th>\n",
       "      <td>8907992</td>\n",
       "      <td>0.0</td>\n",
       "      <td>1000</td>\n",
       "      <td>420000.0</td>\n",
       "    </tr>\n",
       "  </tbody>\n",
       "</table>\n",
       "<p>17590 rows × 4 columns</p>\n",
       "</div>"
      ],
      "text/plain": [
       "            id  room_number  square_metres       price\n",
       "18089  8951414        100.0           8800  15000000.0\n",
       "15436  8820666         60.0           8521   1100000.0\n",
       "10481  7701432         41.0           2049   5200000.0\n",
       "10482  7701433         41.0           2049   5200000.0\n",
       "11243  9029547         30.0            415    550000.0\n",
       "...        ...          ...            ...         ...\n",
       "3810   8997835          0.0             41    170000.0\n",
       "18359  9021045          0.0            296    120000.0\n",
       "18357  8912294          0.0             93    139000.0\n",
       "3788   8960382          0.0             40     99000.0\n",
       "19854  8907992          0.0           1000    420000.0\n",
       "\n",
       "[17590 rows x 4 columns]"
      ]
     },
     "execution_count": 72,
     "metadata": {},
     "output_type": "execute_result"
    }
   ],
   "source": [
    "# Delete rows when the number of room is equals or greater than square meters\n",
    "df = df[df.room_number < df.square_metres]\n",
    "df[[\"id\",\"room_number\",\"square_metres\",\"price\"]].sort_values(by=\"room_number\", ascending=False)"
   ]
  },
  {
   "cell_type": "code",
   "execution_count": 73,
   "metadata": {},
   "outputs": [
    {
     "data": {
      "text/html": [
       "<div>\n",
       "<style scoped>\n",
       "    .dataframe tbody tr th:only-of-type {\n",
       "        vertical-align: middle;\n",
       "    }\n",
       "\n",
       "    .dataframe tbody tr th {\n",
       "        vertical-align: top;\n",
       "    }\n",
       "\n",
       "    .dataframe thead th {\n",
       "        text-align: right;\n",
       "    }\n",
       "</style>\n",
       "<table border=\"1\" class=\"dataframe\">\n",
       "  <thead>\n",
       "    <tr style=\"text-align: right;\">\n",
       "      <th></th>\n",
       "      <th>id</th>\n",
       "      <th>nbr_parking_indoor</th>\n",
       "      <th>square_metres</th>\n",
       "      <th>price</th>\n",
       "    </tr>\n",
       "  </thead>\n",
       "  <tbody>\n",
       "    <tr>\n",
       "      <th>1521</th>\n",
       "      <td>8956263</td>\n",
       "      <td>126.0</td>\n",
       "      <td>238</td>\n",
       "      <td>775000.0</td>\n",
       "    </tr>\n",
       "    <tr>\n",
       "      <th>4459</th>\n",
       "      <td>8956261</td>\n",
       "      <td>126.0</td>\n",
       "      <td>164</td>\n",
       "      <td>625000.0</td>\n",
       "    </tr>\n",
       "    <tr>\n",
       "      <th>513</th>\n",
       "      <td>9019385</td>\n",
       "      <td>100.0</td>\n",
       "      <td>110</td>\n",
       "      <td>259000.0</td>\n",
       "    </tr>\n",
       "    <tr>\n",
       "      <th>561</th>\n",
       "      <td>8479154</td>\n",
       "      <td>95.0</td>\n",
       "      <td>96</td>\n",
       "      <td>366250.0</td>\n",
       "    </tr>\n",
       "    <tr>\n",
       "      <th>5700</th>\n",
       "      <td>8411268</td>\n",
       "      <td>70.0</td>\n",
       "      <td>182</td>\n",
       "      <td>695000.0</td>\n",
       "    </tr>\n",
       "    <tr>\n",
       "      <th>...</th>\n",
       "      <td>...</td>\n",
       "      <td>...</td>\n",
       "      <td>...</td>\n",
       "      <td>...</td>\n",
       "    </tr>\n",
       "    <tr>\n",
       "      <th>19847</th>\n",
       "      <td>8822100</td>\n",
       "      <td>NaN</td>\n",
       "      <td>168</td>\n",
       "      <td>398050.0</td>\n",
       "    </tr>\n",
       "    <tr>\n",
       "      <th>19850</th>\n",
       "      <td>8128634</td>\n",
       "      <td>NaN</td>\n",
       "      <td>140</td>\n",
       "      <td>435200.0</td>\n",
       "    </tr>\n",
       "    <tr>\n",
       "      <th>19851</th>\n",
       "      <td>8907618</td>\n",
       "      <td>NaN</td>\n",
       "      <td>1000</td>\n",
       "      <td>420000.0</td>\n",
       "    </tr>\n",
       "    <tr>\n",
       "      <th>19852</th>\n",
       "      <td>8954484</td>\n",
       "      <td>NaN</td>\n",
       "      <td>253</td>\n",
       "      <td>450000.0</td>\n",
       "    </tr>\n",
       "    <tr>\n",
       "      <th>19854</th>\n",
       "      <td>8907992</td>\n",
       "      <td>NaN</td>\n",
       "      <td>1000</td>\n",
       "      <td>420000.0</td>\n",
       "    </tr>\n",
       "  </tbody>\n",
       "</table>\n",
       "<p>17564 rows × 4 columns</p>\n",
       "</div>"
      ],
      "text/plain": [
       "            id  nbr_parking_indoor  square_metres     price\n",
       "1521   8956263               126.0            238  775000.0\n",
       "4459   8956261               126.0            164  625000.0\n",
       "513    9019385               100.0            110  259000.0\n",
       "561    8479154                95.0             96  366250.0\n",
       "5700   8411268                70.0            182  695000.0\n",
       "...        ...                 ...            ...       ...\n",
       "19847  8822100                 NaN            168  398050.0\n",
       "19850  8128634                 NaN            140  435200.0\n",
       "19851  8907618                 NaN           1000  420000.0\n",
       "19852  8954484                 NaN            253  450000.0\n",
       "19854  8907992                 NaN           1000  420000.0\n",
       "\n",
       "[17564 rows x 4 columns]"
      ]
     },
     "execution_count": 73,
     "metadata": {},
     "output_type": "execute_result"
    }
   ],
   "source": [
    "# Delete rows when the number of parking indoor is equals or greater than square meters\n",
    "df = df[(df.nbr_parking_indoor < df.square_metres) | (df.nbr_parking_indoor.isna())]\n",
    "df[[\"id\",\"nbr_parking_indoor\",\"square_metres\",\"price\"]].sort_values(by=\"nbr_parking_indoor\", ascending=False)"
   ]
  },
  {
   "cell_type": "code",
   "execution_count": 74,
   "metadata": {},
   "outputs": [
    {
     "data": {
      "text/html": [
       "<div>\n",
       "<style scoped>\n",
       "    .dataframe tbody tr th:only-of-type {\n",
       "        vertical-align: middle;\n",
       "    }\n",
       "\n",
       "    .dataframe tbody tr th {\n",
       "        vertical-align: top;\n",
       "    }\n",
       "\n",
       "    .dataframe thead th {\n",
       "        text-align: right;\n",
       "    }\n",
       "</style>\n",
       "<table border=\"1\" class=\"dataframe\">\n",
       "  <thead>\n",
       "    <tr style=\"text-align: right;\">\n",
       "      <th></th>\n",
       "      <th>id</th>\n",
       "      <th>nbr_parking_outdoor</th>\n",
       "      <th>square_metres</th>\n",
       "      <th>price</th>\n",
       "    </tr>\n",
       "  </thead>\n",
       "  <tbody>\n",
       "    <tr>\n",
       "      <th>77</th>\n",
       "      <td>9007296</td>\n",
       "      <td>100.0</td>\n",
       "      <td>118</td>\n",
       "      <td>318000.0</td>\n",
       "    </tr>\n",
       "    <tr>\n",
       "      <th>15958</th>\n",
       "      <td>8489907</td>\n",
       "      <td>100.0</td>\n",
       "      <td>655</td>\n",
       "      <td>750000.0</td>\n",
       "    </tr>\n",
       "    <tr>\n",
       "      <th>14981</th>\n",
       "      <td>8869798</td>\n",
       "      <td>100.0</td>\n",
       "      <td>850</td>\n",
       "      <td>2900000.0</td>\n",
       "    </tr>\n",
       "    <tr>\n",
       "      <th>561</th>\n",
       "      <td>8479154</td>\n",
       "      <td>95.0</td>\n",
       "      <td>96</td>\n",
       "      <td>366250.0</td>\n",
       "    </tr>\n",
       "    <tr>\n",
       "      <th>6614</th>\n",
       "      <td>8874517</td>\n",
       "      <td>76.0</td>\n",
       "      <td>86</td>\n",
       "      <td>249500.0</td>\n",
       "    </tr>\n",
       "    <tr>\n",
       "      <th>...</th>\n",
       "      <td>...</td>\n",
       "      <td>...</td>\n",
       "      <td>...</td>\n",
       "      <td>...</td>\n",
       "    </tr>\n",
       "    <tr>\n",
       "      <th>19847</th>\n",
       "      <td>8822100</td>\n",
       "      <td>NaN</td>\n",
       "      <td>168</td>\n",
       "      <td>398050.0</td>\n",
       "    </tr>\n",
       "    <tr>\n",
       "      <th>19850</th>\n",
       "      <td>8128634</td>\n",
       "      <td>NaN</td>\n",
       "      <td>140</td>\n",
       "      <td>435200.0</td>\n",
       "    </tr>\n",
       "    <tr>\n",
       "      <th>19851</th>\n",
       "      <td>8907618</td>\n",
       "      <td>NaN</td>\n",
       "      <td>1000</td>\n",
       "      <td>420000.0</td>\n",
       "    </tr>\n",
       "    <tr>\n",
       "      <th>19852</th>\n",
       "      <td>8954484</td>\n",
       "      <td>NaN</td>\n",
       "      <td>253</td>\n",
       "      <td>450000.0</td>\n",
       "    </tr>\n",
       "    <tr>\n",
       "      <th>19854</th>\n",
       "      <td>8907992</td>\n",
       "      <td>NaN</td>\n",
       "      <td>1000</td>\n",
       "      <td>420000.0</td>\n",
       "    </tr>\n",
       "  </tbody>\n",
       "</table>\n",
       "<p>17554 rows × 4 columns</p>\n",
       "</div>"
      ],
      "text/plain": [
       "            id  nbr_parking_outdoor  square_metres      price\n",
       "77     9007296                100.0            118   318000.0\n",
       "15958  8489907                100.0            655   750000.0\n",
       "14981  8869798                100.0            850  2900000.0\n",
       "561    8479154                 95.0             96   366250.0\n",
       "6614   8874517                 76.0             86   249500.0\n",
       "...        ...                  ...            ...        ...\n",
       "19847  8822100                  NaN            168   398050.0\n",
       "19850  8128634                  NaN            140   435200.0\n",
       "19851  8907618                  NaN           1000   420000.0\n",
       "19852  8954484                  NaN            253   450000.0\n",
       "19854  8907992                  NaN           1000   420000.0\n",
       "\n",
       "[17554 rows x 4 columns]"
      ]
     },
     "execution_count": 74,
     "metadata": {},
     "output_type": "execute_result"
    }
   ],
   "source": [
    "# Delete rows when the number of parking outdoor is equals or greater than square meters\n",
    "df = df[(df.nbr_parking_outdoor < df.square_metres) | (df.nbr_parking_outdoor.isna())]\n",
    "df[[\"id\",\"nbr_parking_outdoor\",\"square_metres\",\"price\"]].sort_values(by=\"nbr_parking_outdoor\", ascending=False)"
   ]
  },
  {
   "cell_type": "markdown",
   "metadata": {},
   "source": [
    "# In your opinion, which 5 variables are the most important and why?"
   ]
  },
  {
   "cell_type": "markdown",
   "metadata": {},
   "source": [
    "### A discuter  \n",
    "prix/m2  \n",
    "city+region  \n",
    "condition  "
   ]
  },
  {
   "cell_type": "markdown",
   "metadata": {},
   "source": [
    "# What are the most expensive municipalities in Belgium?"
   ]
  },
  {
   "cell_type": "code",
   "execution_count": 75,
   "metadata": {},
   "outputs": [
    {
     "data": {
      "text/plain": [
       "Text(0, 0.5, 'Price by m²')"
      ]
     },
     "execution_count": 75,
     "metadata": {},
     "output_type": "execute_result"
    },
    {
     "data": {
      "image/png": "[encoded data removed]",
      "text/plain": [
       "<Figure size 432x288 with 1 Axes>"
      ]
     },
     "metadata": {
      "needs_background": "light"
     },
     "output_type": "display_data"
    }
   ],
   "source": [
    "city = df.sort_values(by=\"price_by_m2\", ascending=False)\n",
    "plt.figure(1)\n",
    "sns.barplot(x='city', y='price_by_m2', data=city.head())\n",
    "plt.xticks(rotation=-75)\n",
    "plt.title(\"Worst 5 cities for price by m²\")\n",
    "plt.xlabel(\"City\")\n",
    "plt.ylabel(\"Price by m²\")"
   ]
  },
  {
   "cell_type": "markdown",
   "metadata": {},
   "source": [
    "# What are the less expensive municipalities in Belgium"
   ]
  },
  {
   "cell_type": "code",
   "execution_count": 76,
   "metadata": {},
   "outputs": [
    {
     "data": {
      "text/html": [
       "<div>\n",
       "<style scoped>\n",
       "    .dataframe tbody tr th:only-of-type {\n",
       "        vertical-align: middle;\n",
       "    }\n",
       "\n",
       "    .dataframe tbody tr th {\n",
       "        vertical-align: top;\n",
       "    }\n",
       "\n",
       "    .dataframe thead th {\n",
       "        text-align: right;\n",
       "    }\n",
       "</style>\n",
       "<table border=\"1\" class=\"dataframe\">\n",
       "  <thead>\n",
       "    <tr style=\"text-align: right;\">\n",
       "      <th></th>\n",
       "      <th>city</th>\n",
       "      <th>count</th>\n",
       "      <th>mean</th>\n",
       "      <th>std</th>\n",
       "      <th>min</th>\n",
       "      <th>25%</th>\n",
       "      <th>50%</th>\n",
       "      <th>75%</th>\n",
       "      <th>max</th>\n",
       "    </tr>\n",
       "  </thead>\n",
       "  <tbody>\n",
       "    <tr>\n",
       "      <th>0</th>\n",
       "      <td>'s Gravenwezel</td>\n",
       "      <td>1.0</td>\n",
       "      <td>3800.000000</td>\n",
       "      <td>NaN</td>\n",
       "      <td>3800.000000</td>\n",
       "      <td>3800.000000</td>\n",
       "      <td>3800.000000</td>\n",
       "      <td>3800.000000</td>\n",
       "      <td>3800.000000</td>\n",
       "    </tr>\n",
       "    <tr>\n",
       "      <th>1</th>\n",
       "      <td>'t Eilandje (Antwerpen)</td>\n",
       "      <td>1.0</td>\n",
       "      <td>3251.231527</td>\n",
       "      <td>NaN</td>\n",
       "      <td>3251.231527</td>\n",
       "      <td>3251.231527</td>\n",
       "      <td>3251.231527</td>\n",
       "      <td>3251.231527</td>\n",
       "      <td>3251.231527</td>\n",
       "    </tr>\n",
       "    <tr>\n",
       "      <th>2</th>\n",
       "      <td>AARSELE</td>\n",
       "      <td>1.0</td>\n",
       "      <td>1433.333333</td>\n",
       "      <td>NaN</td>\n",
       "      <td>1433.333333</td>\n",
       "      <td>1433.333333</td>\n",
       "      <td>1433.333333</td>\n",
       "      <td>1433.333333</td>\n",
       "      <td>1433.333333</td>\n",
       "    </tr>\n",
       "    <tr>\n",
       "      <th>3</th>\n",
       "      <td>ADINKERKE</td>\n",
       "      <td>6.0</td>\n",
       "      <td>339.673913</td>\n",
       "      <td>14.883765</td>\n",
       "      <td>326.086957</td>\n",
       "      <td>326.086957</td>\n",
       "      <td>339.673913</td>\n",
       "      <td>353.260870</td>\n",
       "      <td>353.260870</td>\n",
       "    </tr>\n",
       "    <tr>\n",
       "      <th>4</th>\n",
       "      <td>AHIN</td>\n",
       "      <td>3.0</td>\n",
       "      <td>804.260652</td>\n",
       "      <td>367.463912</td>\n",
       "      <td>592.105263</td>\n",
       "      <td>592.105263</td>\n",
       "      <td>592.105263</td>\n",
       "      <td>910.338346</td>\n",
       "      <td>1228.571429</td>\n",
       "    </tr>\n",
       "    <tr>\n",
       "      <th>...</th>\n",
       "      <td>...</td>\n",
       "      <td>...</td>\n",
       "      <td>...</td>\n",
       "      <td>...</td>\n",
       "      <td>...</td>\n",
       "      <td>...</td>\n",
       "      <td>...</td>\n",
       "      <td>...</td>\n",
       "      <td>...</td>\n",
       "    </tr>\n",
       "    <tr>\n",
       "      <th>2135</th>\n",
       "      <td>zeebruges</td>\n",
       "      <td>1.0</td>\n",
       "      <td>2487.500000</td>\n",
       "      <td>NaN</td>\n",
       "      <td>2487.500000</td>\n",
       "      <td>2487.500000</td>\n",
       "      <td>2487.500000</td>\n",
       "      <td>2487.500000</td>\n",
       "      <td>2487.500000</td>\n",
       "    </tr>\n",
       "    <tr>\n",
       "      <th>2136</th>\n",
       "      <td>§S Gravenwezel, Schilde</td>\n",
       "      <td>1.0</td>\n",
       "      <td>2802.690583</td>\n",
       "      <td>NaN</td>\n",
       "      <td>2802.690583</td>\n",
       "      <td>2802.690583</td>\n",
       "      <td>2802.690583</td>\n",
       "      <td>2802.690583</td>\n",
       "      <td>2802.690583</td>\n",
       "    </tr>\n",
       "    <tr>\n",
       "      <th>2137</th>\n",
       "      <td>©louges</td>\n",
       "      <td>1.0</td>\n",
       "      <td>660.000000</td>\n",
       "      <td>NaN</td>\n",
       "      <td>660.000000</td>\n",
       "      <td>660.000000</td>\n",
       "      <td>660.000000</td>\n",
       "      <td>660.000000</td>\n",
       "      <td>660.000000</td>\n",
       "    </tr>\n",
       "    <tr>\n",
       "      <th>2138</th>\n",
       "      <td>ÉPINOIS</td>\n",
       "      <td>1.0</td>\n",
       "      <td>2000.000000</td>\n",
       "      <td>NaN</td>\n",
       "      <td>2000.000000</td>\n",
       "      <td>2000.000000</td>\n",
       "      <td>2000.000000</td>\n",
       "      <td>2000.000000</td>\n",
       "      <td>2000.000000</td>\n",
       "    </tr>\n",
       "    <tr>\n",
       "      <th>2139</th>\n",
       "      <td>Érezée</td>\n",
       "      <td>1.0</td>\n",
       "      <td>1663.636364</td>\n",
       "      <td>NaN</td>\n",
       "      <td>1663.636364</td>\n",
       "      <td>1663.636364</td>\n",
       "      <td>1663.636364</td>\n",
       "      <td>1663.636364</td>\n",
       "      <td>1663.636364</td>\n",
       "    </tr>\n",
       "  </tbody>\n",
       "</table>\n",
       "<p>2140 rows × 9 columns</p>\n",
       "</div>"
      ],
      "text/plain": [
       "                         city  count         mean         std          min  \\\n",
       "0              's Gravenwezel    1.0  3800.000000         NaN  3800.000000   \n",
       "1     't Eilandje (Antwerpen)    1.0  3251.231527         NaN  3251.231527   \n",
       "2                     AARSELE    1.0  1433.333333         NaN  1433.333333   \n",
       "3                   ADINKERKE    6.0   339.673913   14.883765   326.086957   \n",
       "4                        AHIN    3.0   804.260652  367.463912   592.105263   \n",
       "...                       ...    ...          ...         ...          ...   \n",
       "2135                zeebruges    1.0  2487.500000         NaN  2487.500000   \n",
       "2136  §S Gravenwezel, Schilde    1.0  2802.690583         NaN  2802.690583   \n",
       "2137                  ©louges    1.0   660.000000         NaN   660.000000   \n",
       "2138                  ÉPINOIS    1.0  2000.000000         NaN  2000.000000   \n",
       "2139                   Érezée    1.0  1663.636364         NaN  1663.636364   \n",
       "\n",
       "              25%          50%          75%          max  \n",
       "0     3800.000000  3800.000000  3800.000000  3800.000000  \n",
       "1     3251.231527  3251.231527  3251.231527  3251.231527  \n",
       "2     1433.333333  1433.333333  1433.333333  1433.333333  \n",
       "3      326.086957   339.673913   353.260870   353.260870  \n",
       "4      592.105263   592.105263   910.338346  1228.571429  \n",
       "...           ...          ...          ...          ...  \n",
       "2135  2487.500000  2487.500000  2487.500000  2487.500000  \n",
       "2136  2802.690583  2802.690583  2802.690583  2802.690583  \n",
       "2137   660.000000   660.000000   660.000000   660.000000  \n",
       "2138  2000.000000  2000.000000  2000.000000  2000.000000  \n",
       "2139  1663.636364  1663.636364  1663.636364  1663.636364  \n",
       "\n",
       "[2140 rows x 9 columns]"
      ]
     },
     "execution_count": 76,
     "metadata": {},
     "output_type": "execute_result"
    }
   ],
   "source": [
    "test = df.groupby(by=\"city\")[\"price_by_m2\"].describe()\n",
    "#test = test.sort_values(by=\"mean\")\n",
    "test = test.reset_index()\n",
    "test"
   ]
  },
  {
   "cell_type": "code",
   "execution_count": 77,
   "metadata": {},
   "outputs": [
    {
     "data": {
      "text/plain": [
       "(array([0, 1, 2, 3, 4]),\n",
       " [Text(0, 0, \"'s Gravenwezel\"),\n",
       "  Text(1, 0, \"'t Eilandje (Antwerpen)\"),\n",
       "  Text(2, 0, 'AARSELE'),\n",
       "  Text(3, 0, 'ADINKERKE'),\n",
       "  Text(4, 0, 'AHIN')])"
      ]
     },
     "execution_count": 77,
     "metadata": {},
     "output_type": "execute_result"
    },
    {
     "data": {
      "image/png": "[encoded data removed]",
      "text/plain": [
       "<Figure size 432x288 with 1 Axes>"
      ]
     },
     "metadata": {
      "needs_background": "light"
     },
     "output_type": "display_data"
    }
   ],
   "source": [
    "sns.barplot(x='city', y='mean', data=test.head())\n",
    "plt.xticks(rotation=-90)"
   ]
  },
  {
   "cell_type": "code",
   "execution_count": 81,
   "metadata": {},
   "outputs": [
    {
     "ename": "KeyError",
     "evalue": "0",
     "output_type": "error",
     "traceback": [
      "\u001b[0;31m---------------------------------------------------------------------------\u001b[0m",
      "\u001b[0;31mKeyError\u001b[0m                                  Traceback (most recent call last)",
      "\u001b[0;32m~/miniconda3/envs/challenge-data-analysis/lib/python3.8/site-packages/pandas/core/indexes/base.py\u001b[0m in \u001b[0;36mget_loc\u001b[0;34m(self, key, method, tolerance)\u001b[0m\n\u001b[1;32m   2894\u001b[0m             \u001b[0;32mtry\u001b[0m\u001b[0;34m:\u001b[0m\u001b[0;34m\u001b[0m\u001b[0;34m\u001b[0m\u001b[0m\n\u001b[0;32m-> 2895\u001b[0;31m                 \u001b[0;32mreturn\u001b[0m \u001b[0mself\u001b[0m\u001b[0;34m.\u001b[0m\u001b[0m_engine\u001b[0m\u001b[0;34m.\u001b[0m\u001b[0mget_loc\u001b[0m\u001b[0;34m(\u001b[0m\u001b[0mcasted_key\u001b[0m\u001b[0;34m)\u001b[0m\u001b[0;34m\u001b[0m\u001b[0;34m\u001b[0m\u001b[0m\n\u001b[0m\u001b[1;32m   2896\u001b[0m             \u001b[0;32mexcept\u001b[0m \u001b[0mKeyError\u001b[0m \u001b[0;32mas\u001b[0m \u001b[0merr\u001b[0m\u001b[0;34m:\u001b[0m\u001b[0;34m\u001b[0m\u001b[0;34m\u001b[0m\u001b[0m\n",
      "\u001b[0;32mpandas/_libs/index.pyx\u001b[0m in \u001b[0;36mpandas._libs.index.IndexEngine.get_loc\u001b[0;34m()\u001b[0m\n",
      "\u001b[0;32mpandas/_libs/index.pyx\u001b[0m in \u001b[0;36mpandas._libs.index.IndexEngine.get_loc\u001b[0;34m()\u001b[0m\n",
      "\u001b[0;32mpandas/_libs/hashtable_class_helper.pxi\u001b[0m in \u001b[0;36mpandas._libs.hashtable.Int64HashTable.get_item\u001b[0;34m()\u001b[0m\n",
      "\u001b[0;32mpandas/_libs/hashtable_class_helper.pxi\u001b[0m in \u001b[0;36mpandas._libs.hashtable.Int64HashTable.get_item\u001b[0;34m()\u001b[0m\n",
      "\u001b[0;31mKeyError\u001b[0m: 0",
      "\nThe above exception was the direct cause of the following exception:\n",
      "\u001b[0;31mKeyError\u001b[0m                                  Traceback (most recent call last)",
      "\u001b[0;32m<ipython-input-81-6a38359a729a>\u001b[0m in \u001b[0;36m<module>\u001b[0;34m\u001b[0m\n\u001b[0;32m----> 1\u001b[0;31m \u001b[0msns\u001b[0m\u001b[0;34m.\u001b[0m\u001b[0mboxplot\u001b[0m\u001b[0;34m(\u001b[0m\u001b[0mdata\u001b[0m\u001b[0;34m=\u001b[0m\u001b[0mdf\u001b[0m\u001b[0;34m.\u001b[0m\u001b[0mprice\u001b[0m\u001b[0;34m)\u001b[0m\u001b[0;34m\u001b[0m\u001b[0;34m\u001b[0m\u001b[0m\n\u001b[0m",
      "\u001b[0;32m~/miniconda3/envs/challenge-data-analysis/lib/python3.8/site-packages/seaborn/_decorators.py\u001b[0m in \u001b[0;36minner_f\u001b[0;34m(*args, **kwargs)\u001b[0m\n\u001b[1;32m     44\u001b[0m             )\n\u001b[1;32m     45\u001b[0m         \u001b[0mkwargs\u001b[0m\u001b[0;34m.\u001b[0m\u001b[0mupdate\u001b[0m\u001b[0;34m(\u001b[0m\u001b[0;34m{\u001b[0m\u001b[0mk\u001b[0m\u001b[0;34m:\u001b[0m \u001b[0marg\u001b[0m \u001b[0;32mfor\u001b[0m \u001b[0mk\u001b[0m\u001b[0;34m,\u001b[0m \u001b[0marg\u001b[0m \u001b[0;32min\u001b[0m \u001b[0mzip\u001b[0m\u001b[0;34m(\u001b[0m\u001b[0msig\u001b[0m\u001b[0;34m.\u001b[0m\u001b[0mparameters\u001b[0m\u001b[0;34m,\u001b[0m \u001b[0margs\u001b[0m\u001b[0;34m)\u001b[0m\u001b[0;34m}\u001b[0m\u001b[0;34m)\u001b[0m\u001b[0;34m\u001b[0m\u001b[0;34m\u001b[0m\u001b[0m\n\u001b[0;32m---> 46\u001b[0;31m         \u001b[0;32mreturn\u001b[0m \u001b[0mf\u001b[0m\u001b[0;34m(\u001b[0m\u001b[0;34m**\u001b[0m\u001b[0mkwargs\u001b[0m\u001b[0;34m)\u001b[0m\u001b[0;34m\u001b[0m\u001b[0;34m\u001b[0m\u001b[0m\n\u001b[0m\u001b[1;32m     47\u001b[0m     \u001b[0;32mreturn\u001b[0m \u001b[0minner_f\u001b[0m\u001b[0;34m\u001b[0m\u001b[0;34m\u001b[0m\u001b[0m\n\u001b[1;32m     48\u001b[0m \u001b[0;34m\u001b[0m\u001b[0m\n",
      "\u001b[0;32m~/miniconda3/envs/challenge-data-analysis/lib/python3.8/site-packages/seaborn/categorical.py\u001b[0m in \u001b[0;36mboxplot\u001b[0;34m(x, y, hue, data, order, hue_order, orient, color, palette, saturation, width, dodge, fliersize, linewidth, whis, ax, **kwargs)\u001b[0m\n\u001b[1;32m   2228\u001b[0m ):\n\u001b[1;32m   2229\u001b[0m \u001b[0;34m\u001b[0m\u001b[0m\n\u001b[0;32m-> 2230\u001b[0;31m     plotter = _BoxPlotter(x, y, hue, data, order, hue_order,\n\u001b[0m\u001b[1;32m   2231\u001b[0m                           \u001b[0morient\u001b[0m\u001b[0;34m,\u001b[0m \u001b[0mcolor\u001b[0m\u001b[0;34m,\u001b[0m \u001b[0mpalette\u001b[0m\u001b[0;34m,\u001b[0m \u001b[0msaturation\u001b[0m\u001b[0;34m,\u001b[0m\u001b[0;34m\u001b[0m\u001b[0;34m\u001b[0m\u001b[0m\n\u001b[1;32m   2232\u001b[0m                           width, dodge, fliersize, linewidth)\n",
      "\u001b[0;32m~/miniconda3/envs/challenge-data-analysis/lib/python3.8/site-packages/seaborn/categorical.py\u001b[0m in \u001b[0;36m__init__\u001b[0;34m(self, x, y, hue, data, order, hue_order, orient, color, palette, saturation, width, dodge, fliersize, linewidth)\u001b[0m\n\u001b[1;32m    404\u001b[0m                  width, dodge, fliersize, linewidth):\n\u001b[1;32m    405\u001b[0m \u001b[0;34m\u001b[0m\u001b[0m\n\u001b[0;32m--> 406\u001b[0;31m         \u001b[0mself\u001b[0m\u001b[0;34m.\u001b[0m\u001b[0mestablish_variables\u001b[0m\u001b[0;34m(\u001b[0m\u001b[0mx\u001b[0m\u001b[0;34m,\u001b[0m \u001b[0my\u001b[0m\u001b[0;34m,\u001b[0m \u001b[0mhue\u001b[0m\u001b[0;34m,\u001b[0m \u001b[0mdata\u001b[0m\u001b[0;34m,\u001b[0m \u001b[0morient\u001b[0m\u001b[0;34m,\u001b[0m \u001b[0morder\u001b[0m\u001b[0;34m,\u001b[0m \u001b[0mhue_order\u001b[0m\u001b[0;34m)\u001b[0m\u001b[0;34m\u001b[0m\u001b[0;34m\u001b[0m\u001b[0m\n\u001b[0m\u001b[1;32m    407\u001b[0m         \u001b[0mself\u001b[0m\u001b[0;34m.\u001b[0m\u001b[0mestablish_colors\u001b[0m\u001b[0;34m(\u001b[0m\u001b[0mcolor\u001b[0m\u001b[0;34m,\u001b[0m \u001b[0mpalette\u001b[0m\u001b[0;34m,\u001b[0m \u001b[0msaturation\u001b[0m\u001b[0;34m)\u001b[0m\u001b[0;34m\u001b[0m\u001b[0;34m\u001b[0m\u001b[0m\n\u001b[1;32m    408\u001b[0m \u001b[0;34m\u001b[0m\u001b[0m\n",
      "\u001b[0;32m~/miniconda3/envs/challenge-data-analysis/lib/python3.8/site-packages/seaborn/categorical.py\u001b[0m in \u001b[0;36mestablish_variables\u001b[0;34m(self, x, y, hue, data, orient, order, hue_order, units)\u001b[0m\n\u001b[1;32m     96\u001b[0m                 \u001b[0;32mif\u001b[0m \u001b[0mhasattr\u001b[0m\u001b[0;34m(\u001b[0m\u001b[0mdata\u001b[0m\u001b[0;34m,\u001b[0m \u001b[0;34m\"shape\"\u001b[0m\u001b[0;34m)\u001b[0m\u001b[0;34m:\u001b[0m\u001b[0;34m\u001b[0m\u001b[0;34m\u001b[0m\u001b[0m\n\u001b[1;32m     97\u001b[0m                     \u001b[0;32mif\u001b[0m \u001b[0mlen\u001b[0m\u001b[0;34m(\u001b[0m\u001b[0mdata\u001b[0m\u001b[0;34m.\u001b[0m\u001b[0mshape\u001b[0m\u001b[0;34m)\u001b[0m \u001b[0;34m==\u001b[0m \u001b[0;36m1\u001b[0m\u001b[0;34m:\u001b[0m\u001b[0;34m\u001b[0m\u001b[0;34m\u001b[0m\u001b[0m\n\u001b[0;32m---> 98\u001b[0;31m                         \u001b[0;32mif\u001b[0m \u001b[0mnp\u001b[0m\u001b[0;34m.\u001b[0m\u001b[0misscalar\u001b[0m\u001b[0;34m(\u001b[0m\u001b[0mdata\u001b[0m\u001b[0;34m[\u001b[0m\u001b[0;36m0\u001b[0m\u001b[0;34m]\u001b[0m\u001b[0;34m)\u001b[0m\u001b[0;34m:\u001b[0m\u001b[0;34m\u001b[0m\u001b[0;34m\u001b[0m\u001b[0m\n\u001b[0m\u001b[1;32m     99\u001b[0m                             \u001b[0mplot_data\u001b[0m \u001b[0;34m=\u001b[0m \u001b[0;34m[\u001b[0m\u001b[0mdata\u001b[0m\u001b[0;34m]\u001b[0m\u001b[0;34m\u001b[0m\u001b[0;34m\u001b[0m\u001b[0m\n\u001b[1;32m    100\u001b[0m                         \u001b[0;32melse\u001b[0m\u001b[0;34m:\u001b[0m\u001b[0;34m\u001b[0m\u001b[0;34m\u001b[0m\u001b[0m\n",
      "\u001b[0;32m~/miniconda3/envs/challenge-data-analysis/lib/python3.8/site-packages/pandas/core/series.py\u001b[0m in \u001b[0;36m__getitem__\u001b[0;34m(self, key)\u001b[0m\n\u001b[1;32m    880\u001b[0m \u001b[0;34m\u001b[0m\u001b[0m\n\u001b[1;32m    881\u001b[0m         \u001b[0;32melif\u001b[0m \u001b[0mkey_is_scalar\u001b[0m\u001b[0;34m:\u001b[0m\u001b[0;34m\u001b[0m\u001b[0;34m\u001b[0m\u001b[0m\n\u001b[0;32m--> 882\u001b[0;31m             \u001b[0;32mreturn\u001b[0m \u001b[0mself\u001b[0m\u001b[0;34m.\u001b[0m\u001b[0m_get_value\u001b[0m\u001b[0;34m(\u001b[0m\u001b[0mkey\u001b[0m\u001b[0;34m)\u001b[0m\u001b[0;34m\u001b[0m\u001b[0;34m\u001b[0m\u001b[0m\n\u001b[0m\u001b[1;32m    883\u001b[0m \u001b[0;34m\u001b[0m\u001b[0m\n\u001b[1;32m    884\u001b[0m         \u001b[0;32mif\u001b[0m \u001b[0mis_hashable\u001b[0m\u001b[0;34m(\u001b[0m\u001b[0mkey\u001b[0m\u001b[0;34m)\u001b[0m\u001b[0;34m:\u001b[0m\u001b[0;34m\u001b[0m\u001b[0;34m\u001b[0m\u001b[0m\n",
      "\u001b[0;32m~/miniconda3/envs/challenge-data-analysis/lib/python3.8/site-packages/pandas/core/series.py\u001b[0m in \u001b[0;36m_get_value\u001b[0;34m(self, label, takeable)\u001b[0m\n\u001b[1;32m    987\u001b[0m \u001b[0;34m\u001b[0m\u001b[0m\n\u001b[1;32m    988\u001b[0m         \u001b[0;31m# Similar to Index.get_value, but we do not fall back to positional\u001b[0m\u001b[0;34m\u001b[0m\u001b[0;34m\u001b[0m\u001b[0;34m\u001b[0m\u001b[0m\n\u001b[0;32m--> 989\u001b[0;31m         \u001b[0mloc\u001b[0m \u001b[0;34m=\u001b[0m \u001b[0mself\u001b[0m\u001b[0;34m.\u001b[0m\u001b[0mindex\u001b[0m\u001b[0;34m.\u001b[0m\u001b[0mget_loc\u001b[0m\u001b[0;34m(\u001b[0m\u001b[0mlabel\u001b[0m\u001b[0;34m)\u001b[0m\u001b[0;34m\u001b[0m\u001b[0;34m\u001b[0m\u001b[0m\n\u001b[0m\u001b[1;32m    990\u001b[0m         \u001b[0;32mreturn\u001b[0m \u001b[0mself\u001b[0m\u001b[0;34m.\u001b[0m\u001b[0mindex\u001b[0m\u001b[0;34m.\u001b[0m\u001b[0m_get_values_for_loc\u001b[0m\u001b[0;34m(\u001b[0m\u001b[0mself\u001b[0m\u001b[0;34m,\u001b[0m \u001b[0mloc\u001b[0m\u001b[0;34m,\u001b[0m \u001b[0mlabel\u001b[0m\u001b[0;34m)\u001b[0m\u001b[0;34m\u001b[0m\u001b[0;34m\u001b[0m\u001b[0m\n\u001b[1;32m    991\u001b[0m \u001b[0;34m\u001b[0m\u001b[0m\n",
      "\u001b[0;32m~/miniconda3/envs/challenge-data-analysis/lib/python3.8/site-packages/pandas/core/indexes/base.py\u001b[0m in \u001b[0;36mget_loc\u001b[0;34m(self, key, method, tolerance)\u001b[0m\n\u001b[1;32m   2895\u001b[0m                 \u001b[0;32mreturn\u001b[0m \u001b[0mself\u001b[0m\u001b[0;34m.\u001b[0m\u001b[0m_engine\u001b[0m\u001b[0;34m.\u001b[0m\u001b[0mget_loc\u001b[0m\u001b[0;34m(\u001b[0m\u001b[0mcasted_key\u001b[0m\u001b[0;34m)\u001b[0m\u001b[0;34m\u001b[0m\u001b[0;34m\u001b[0m\u001b[0m\n\u001b[1;32m   2896\u001b[0m             \u001b[0;32mexcept\u001b[0m \u001b[0mKeyError\u001b[0m \u001b[0;32mas\u001b[0m \u001b[0merr\u001b[0m\u001b[0;34m:\u001b[0m\u001b[0;34m\u001b[0m\u001b[0;34m\u001b[0m\u001b[0m\n\u001b[0;32m-> 2897\u001b[0;31m                 \u001b[0;32mraise\u001b[0m \u001b[0mKeyError\u001b[0m\u001b[0;34m(\u001b[0m\u001b[0mkey\u001b[0m\u001b[0;34m)\u001b[0m \u001b[0;32mfrom\u001b[0m \u001b[0merr\u001b[0m\u001b[0;34m\u001b[0m\u001b[0;34m\u001b[0m\u001b[0m\n\u001b[0m\u001b[1;32m   2898\u001b[0m \u001b[0;34m\u001b[0m\u001b[0m\n\u001b[1;32m   2899\u001b[0m         \u001b[0;32mif\u001b[0m \u001b[0mtolerance\u001b[0m \u001b[0;32mis\u001b[0m \u001b[0;32mnot\u001b[0m \u001b[0;32mNone\u001b[0m\u001b[0;34m:\u001b[0m\u001b[0;34m\u001b[0m\u001b[0;34m\u001b[0m\u001b[0m\n",
      "\u001b[0;31mKeyError\u001b[0m: 0"
     ]
    }
   ],
   "source": [
    "sns.boxplot(data=df.price)"
   ]
  },
  {
   "cell_type": "code",
   "execution_count": null,
   "metadata": {},
   "outputs": [],
   "source": []
  }
 ],
 "metadata": {
  "kernelspec": {
   "display_name": "Python 3",
   "language": "python",
   "name": "python3"
  },
  "language_info": {
   "codemirror_mode": {
    "name": "ipython",
    "version": 3
   },
   "file_extension": ".py",
   "mimetype": "text/x-python",
   "name": "python",
   "nbconvert_exporter": "python",
   "pygments_lexer": "ipython3",
   "version": "3.8.6"
  }
 },
 "nbformat": 4,
 "nbformat_minor": 2
}
